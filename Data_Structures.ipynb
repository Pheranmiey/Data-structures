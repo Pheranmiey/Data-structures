{
  "nbformat": 4,
  "nbformat_minor": 0,
  "metadata": {
    "kernelspec": {
      "display_name": "Python 3",
      "language": "python",
      "name": "python3"
    },
    "language_info": {
      "codemirror_mode": {
        "name": "ipython",
        "version": 3
      },
      "file_extension": ".py",
      "mimetype": "text/x-python",
      "name": "python",
      "nbconvert_exporter": "python",
      "pygments_lexer": "ipython3",
      "version": "3.8.3"
    },
    "colab": {
      "name": "Data Structures.ipynb",
      "provenance": []
    }
  },
  "cells": [
    {
      "cell_type": "code",
      "metadata": {
        "id": "X7HcK9bA8S7W"
      },
      "source": [
        "# a = float(input('Enter the number; '))\n",
        "# o = input('Enter the operator; ')\n",
        "# b = float(input('Enter second number; '))\n",
        "\n",
        "# addition = a + b\n",
        "# subtraction = a - b\n",
        "# division = a / b\n",
        "# multiplication = a * b\n",
        "# root = (a ** 0.5)\n",
        "# if o == '+':\n",
        "#     print (addition)\n",
        "# elif o == '-':\n",
        "#     print(subtraction)\n",
        "    \n",
        "# elif o == '/':\n",
        "#     print (division)\n",
        "# elif o == '*':\n",
        "#     print (multiplication)\n",
        "# else:\n",
        "#     print(root)\n"
      ],
      "execution_count": null,
      "outputs": []
    },
    {
      "cell_type": "code",
      "metadata": {
        "id": "B1WuMCCE8S7x"
      },
      "source": [
        ""
      ],
      "execution_count": null,
      "outputs": []
    },
    {
      "cell_type": "markdown",
      "metadata": {
        "id": "FfA9WhoL8S70"
      },
      "source": [
        "# JOVIAN"
      ]
    },
    {
      "cell_type": "markdown",
      "metadata": {
        "id": "cQ2qUt-n8S8B"
      },
      "source": [
        "Question; List of seven cards and you are asked to pick the card nwhich has no 7 with the minimum try possible,cards are arranged in descending order"
      ]
    },
    {
      "cell_type": "code",
      "metadata": {
        "id": "XzCPnek68S8G"
      },
      "source": [
        "def locate_card(cards, query):\n",
        "    pass"
      ],
      "execution_count": null,
      "outputs": []
    },
    {
      "cell_type": "code",
      "metadata": {
        "id": "Ae7i0JeP8S8K"
      },
      "source": [
        "cards = [13,12,9,7,5,4,3]\n",
        "query = 7\n",
        "output = 3"
      ],
      "execution_count": null,
      "outputs": []
    },
    {
      "cell_type": "code",
      "metadata": {
        "colab": {
          "base_uri": "https://localhost:8080/"
        },
        "id": "csTT_hhR8S8N",
        "outputId": "ccb7191f-5902-4210-c5d8-9a6a7fb878aa"
      },
      "source": [
        "result = locate_card(cards, query)\n",
        "print(result)"
      ],
      "execution_count": null,
      "outputs": [
        {
          "output_type": "stream",
          "name": "stdout",
          "text": [
            "None\n"
          ]
        }
      ]
    },
    {
      "cell_type": "code",
      "metadata": {
        "id": "zW7kUvNE8S8W"
      },
      "source": [
        "test = {\n",
        "    'input' :{'cards': [13,12,9,7,5,4,3],\n",
        "            'query' :7},\n",
        "    'output' : 3\n",
        "}"
      ],
      "execution_count": null,
      "outputs": []
    },
    {
      "cell_type": "code",
      "metadata": {
        "id": "bPE52V8a8S8c"
      },
      "source": [
        "# locate_card(test['input']['cards'],test['input']['query'])== test['output']"
      ],
      "execution_count": null,
      "outputs": []
    },
    {
      "cell_type": "code",
      "metadata": {
        "colab": {
          "base_uri": "https://localhost:8080/"
        },
        "id": "1whuqNJ18S8i",
        "outputId": "555580f2-88db-470c-e0ab-334713d798d9"
      },
      "source": [
        "locate_card(**test['input']) == test['output']"
      ],
      "execution_count": null,
      "outputs": [
        {
          "output_type": "execute_result",
          "data": {
            "text/plain": [
              "False"
            ]
          },
          "metadata": {},
          "execution_count": 303
        }
      ]
    },
    {
      "cell_type": "code",
      "metadata": {
        "id": "ENB73hsk8S8p"
      },
      "source": [
        "tests = []"
      ],
      "execution_count": null,
      "outputs": []
    },
    {
      "cell_type": "code",
      "metadata": {
        "id": "tHLXpVSv8S8s"
      },
      "source": [
        "#possible outcomes\n",
        "\n",
        "tests.append(test)\n",
        "\n"
      ],
      "execution_count": null,
      "outputs": []
    },
    {
      "cell_type": "code",
      "metadata": {
        "id": "iz3xVxro8S8w"
      },
      "source": [
        "#2\n",
        "tests.append({\n",
        "    'input': {'cards' : [12,7,5,4,3,2,1] ,\n",
        "              'query' : 3\n",
        "        \n",
        "    },'output':4\n",
        "})\n",
        "\n"
      ],
      "execution_count": null,
      "outputs": []
    },
    {
      "cell_type": "code",
      "metadata": {
        "id": "4C29CEhy8S8z"
      },
      "source": [
        "#3 \n",
        "tests.append({\n",
        "    'input':{'cards': [13,12,9,7,5,4,3],\n",
        "            'query' :13},\n",
        "    'output' : 0\n",
        "})\n",
        "\n"
      ],
      "execution_count": null,
      "outputs": []
    },
    {
      "cell_type": "code",
      "metadata": {
        "id": "ZhM9SaNb8S82"
      },
      "source": [
        "#4\n",
        "tests.append({\n",
        "    'input' :{'cards': [3],\n",
        "            'query' :3},\n",
        "    'output' : 0\n",
        "})\n",
        "\n"
      ],
      "execution_count": null,
      "outputs": []
    },
    {
      "cell_type": "code",
      "metadata": {
        "id": "n35I19rx8S84"
      },
      "source": [
        "#5\n",
        "tests.append({\n",
        "    'input' :{'cards': [13,12,9,7,5,4,3],\n",
        "            'query' :6},\n",
        "    'output' : -1\n",
        "})\n",
        "\n"
      ],
      "execution_count": null,
      "outputs": []
    },
    {
      "cell_type": "code",
      "metadata": {
        "id": "L_FsSqsk8S86"
      },
      "source": [
        "#6\n",
        "tests.append({\n",
        "    'input' :{'cards': [],\n",
        "            'query' :7},\n",
        "    'output' : -1\n",
        "})\n"
      ],
      "execution_count": null,
      "outputs": []
    },
    {
      "cell_type": "code",
      "metadata": {
        "id": "qpxHMiaw8S89"
      },
      "source": [
        "#7\n",
        "tests.append({\n",
        "    'input' :{'cards': [13,13,12,9,7,7,7,7,5,4,3],\n",
        "            'query' :12},\n",
        "    'output' : 2\n",
        "}) \n",
        "    \n"
      ],
      "execution_count": null,
      "outputs": []
    },
    {
      "cell_type": "code",
      "metadata": {
        "id": "tp4T2FLc8S8_"
      },
      "source": [
        "#8\n",
        "tests.append({\n",
        "    'input' :{'cards': [13,12,9,9,9,7,5,4,3],\n",
        "            'query' :9},\n",
        "    'output' : 2\n",
        "})    \n",
        "    "
      ],
      "execution_count": null,
      "outputs": []
    },
    {
      "cell_type": "code",
      "metadata": {
        "colab": {
          "base_uri": "https://localhost:8080/"
        },
        "id": "7u8WywWk8S9B",
        "outputId": "326fef47-8400-494a-c5d1-100674296c1b"
      },
      "source": [
        "tests"
      ],
      "execution_count": null,
      "outputs": [
        {
          "output_type": "execute_result",
          "data": {
            "text/plain": [
              "[{'input': {'cards': [13, 12, 9, 7, 5, 4, 3], 'query': 7}, 'output': 3},\n",
              " {'input': {'cards': [12, 7, 5, 4, 3, 2, 1], 'query': 3}, 'output': 4},\n",
              " {'input': {'cards': [13, 12, 9, 7, 5, 4, 3], 'query': 13}, 'output': 0},\n",
              " {'input': {'cards': [3], 'query': 3}, 'output': 0},\n",
              " {'input': {'cards': [13, 12, 9, 7, 5, 4, 3], 'query': 6}, 'output': -1},\n",
              " {'input': {'cards': [], 'query': 7}, 'output': -1},\n",
              " {'input': {'cards': [13, 13, 12, 9, 7, 7, 7, 7, 5, 4, 3], 'query': 12},\n",
              "  'output': 2},\n",
              " {'input': {'cards': [13, 12, 9, 9, 9, 7, 5, 4, 3], 'query': 9}, 'output': 2}]"
            ]
          },
          "metadata": {},
          "execution_count": 313
        }
      ]
    },
    {
      "cell_type": "markdown",
      "metadata": {
        "id": "Rf3cEMuS8S9F"
      },
      "source": [
        "# BRUTE FORCE ALGORITHM"
      ]
    },
    {
      "cell_type": "code",
      "metadata": {
        "id": "vlskll2_8S9H"
      },
      "source": [
        "def locate_card(cards, query):\n",
        "    position = 0\n",
        "    \n",
        "    print('Expected output:', test['output'])\n",
        "    \n",
        "    while position < len(cards):\n",
        "        if cards[position] == query:\n",
        "            print('algo output:', position)\n",
        "            return position\n",
        "        \n",
        "        position +=1\n",
        "        \n",
        "        if position == (len(cards)-1):\n",
        "            return -1     "
      ],
      "execution_count": null,
      "outputs": []
    },
    {
      "cell_type": "code",
      "metadata": {
        "colab": {
          "base_uri": "https://localhost:8080/"
        },
        "id": "n2eUsGSG8S9J",
        "outputId": "092d6967-b9bc-4cdd-93a6-66c6f194a56e"
      },
      "source": [
        "tests"
      ],
      "execution_count": null,
      "outputs": [
        {
          "output_type": "execute_result",
          "data": {
            "text/plain": [
              "[{'input': {'cards': [13, 12, 9, 7, 5, 4, 3], 'query': 7}, 'output': 3},\n",
              " {'input': {'cards': [12, 7, 5, 4, 3, 2, 1], 'query': 3}, 'output': 4},\n",
              " {'input': {'cards': [13, 12, 9, 7, 5, 4, 3], 'query': 13}, 'output': 0},\n",
              " {'input': {'cards': [3], 'query': 3}, 'output': 0},\n",
              " {'input': {'cards': [13, 12, 9, 7, 5, 4, 3], 'query': 6}, 'output': -1},\n",
              " {'input': {'cards': [], 'query': 7}, 'output': -1},\n",
              " {'input': {'cards': [13, 13, 12, 9, 7, 7, 7, 7, 5, 4, 3], 'query': 12},\n",
              "  'output': 2},\n",
              " {'input': {'cards': [13, 12, 9, 9, 9, 7, 5, 4, 3], 'query': 9}, 'output': 2}]"
            ]
          },
          "metadata": {},
          "execution_count": 315
        }
      ]
    },
    {
      "cell_type": "code",
      "metadata": {
        "colab": {
          "base_uri": "https://localhost:8080/"
        },
        "id": "1YW5rqtS8S9M",
        "outputId": "abc8c47a-22bb-4b93-f61a-e86ae858161d"
      },
      "source": [
        "%%time\n",
        "test_no = 0\n",
        "for test in tests:\n",
        "    test_no += 1\n",
        "    print(test_no)\n",
        "    print(locate_card(**test['input']) == test['output'])"
      ],
      "execution_count": null,
      "outputs": [
        {
          "output_type": "stream",
          "name": "stdout",
          "text": [
            "1\n",
            "Expected output: 3\n",
            "algo output: 3\n",
            "True\n",
            "2\n",
            "Expected output: 4\n",
            "algo output: 4\n",
            "True\n",
            "3\n",
            "Expected output: 0\n",
            "algo output: 0\n",
            "True\n",
            "4\n",
            "Expected output: 0\n",
            "algo output: 0\n",
            "True\n",
            "5\n",
            "Expected output: -1\n",
            "True\n",
            "6\n",
            "Expected output: -1\n",
            "False\n",
            "7\n",
            "Expected output: 2\n",
            "algo output: 2\n",
            "True\n",
            "8\n",
            "Expected output: 2\n",
            "algo output: 2\n",
            "True\n",
            "CPU times: user 12.6 ms, sys: 0 ns, total: 12.6 ms\n",
            "Wall time: 13.3 ms\n"
          ]
        }
      ]
    },
    {
      "cell_type": "code",
      "metadata": {
        "id": "0C8uin8x8S9O"
      },
      "source": [
        ""
      ],
      "execution_count": null,
      "outputs": []
    },
    {
      "cell_type": "markdown",
      "metadata": {
        "id": "NACxurzB8S9P"
      },
      "source": [
        "# BEST ALGORITHM"
      ]
    },
    {
      "cell_type": "code",
      "metadata": {
        "id": "niN-aGT88S9Q"
      },
      "source": [
        ""
      ],
      "execution_count": null,
      "outputs": []
    },
    {
      "cell_type": "code",
      "metadata": {
        "id": "87ptvuB58S9R"
      },
      "source": [
        "def locate_card2(cards, query):\n",
        "    pos_a = 0 \n",
        "    pos_z = len(cards)-1\n",
        "    \n",
        "    while pos_a <= pos_z:\n",
        "        query_pos = (pos_a + pos_z)//2\n",
        "        present_card = cards[query_pos]\n",
        "        print('pos_a :', pos_a, ', pos_z :', pos_z,', query_pos :', query_pos,',present_card :', present_card)\n",
        "        if present_card == query:\n",
        "            return query_pos\n",
        "        elif present_card < query:\n",
        "            pos_z = query_pos -1\n",
        "        elif present_card > query:\n",
        "            pos_a = query_pos + 1\n",
        "    return - 1"
      ],
      "execution_count": null,
      "outputs": []
    },
    {
      "cell_type": "code",
      "metadata": {
        "id": "zN7rzJ-O8S9W"
      },
      "source": [
        ""
      ],
      "execution_count": null,
      "outputs": []
    },
    {
      "cell_type": "code",
      "metadata": {
        "colab": {
          "base_uri": "https://localhost:8080/"
        },
        "id": "9-aclytQ8S9Y",
        "outputId": "c7d9cd56-a015-4f07-eaee-f1d3b1de6042"
      },
      "source": [
        "tests"
      ],
      "execution_count": null,
      "outputs": [
        {
          "output_type": "execute_result",
          "data": {
            "text/plain": [
              "[{'input': {'cards': [13, 12, 9, 7, 5, 4, 3], 'query': 7}, 'output': 3},\n",
              " {'input': {'cards': [12, 7, 5, 4, 3, 2, 1], 'query': 3}, 'output': 4},\n",
              " {'input': {'cards': [13, 12, 9, 7, 5, 4, 3], 'query': 13}, 'output': 0},\n",
              " {'input': {'cards': [3], 'query': 3}, 'output': 0},\n",
              " {'input': {'cards': [13, 12, 9, 7, 5, 4, 3], 'query': 6}, 'output': -1},\n",
              " {'input': {'cards': [], 'query': 7}, 'output': -1},\n",
              " {'input': {'cards': [13, 13, 12, 9, 7, 7, 7, 7, 5, 4, 3], 'query': 12},\n",
              "  'output': 2},\n",
              " {'input': {'cards': [13, 12, 9, 9, 9, 7, 5, 4, 3], 'query': 9}, 'output': 2}]"
            ]
          },
          "metadata": {},
          "execution_count": 318
        }
      ]
    },
    {
      "cell_type": "code",
      "metadata": {
        "colab": {
          "base_uri": "https://localhost:8080/"
        },
        "id": "O92LaeiZ8S9a",
        "outputId": "621d30f0-4053-4912-f9d2-728755e210e5"
      },
      "source": [
        "test_no = 0\n",
        "for test in tests:\n",
        "    test_no += 1\n",
        "    print(test_no)\n",
        "    print(locate_card2(**test['input']) == test['output'])"
      ],
      "execution_count": null,
      "outputs": [
        {
          "output_type": "stream",
          "name": "stdout",
          "text": [
            "1\n",
            "pos_a : 0 , pos_z : 6 , query_pos : 3 ,present_card : 7\n",
            "True\n",
            "2\n",
            "pos_a : 0 , pos_z : 6 , query_pos : 3 ,present_card : 4\n",
            "pos_a : 4 , pos_z : 6 , query_pos : 5 ,present_card : 2\n",
            "pos_a : 4 , pos_z : 4 , query_pos : 4 ,present_card : 3\n",
            "True\n",
            "3\n",
            "pos_a : 0 , pos_z : 6 , query_pos : 3 ,present_card : 7\n",
            "pos_a : 0 , pos_z : 2 , query_pos : 1 ,present_card : 12\n",
            "pos_a : 0 , pos_z : 0 , query_pos : 0 ,present_card : 13\n",
            "True\n",
            "4\n",
            "pos_a : 0 , pos_z : 0 , query_pos : 0 ,present_card : 3\n",
            "True\n",
            "5\n",
            "pos_a : 0 , pos_z : 6 , query_pos : 3 ,present_card : 7\n",
            "pos_a : 4 , pos_z : 6 , query_pos : 5 ,present_card : 4\n",
            "pos_a : 4 , pos_z : 4 , query_pos : 4 ,present_card : 5\n",
            "True\n",
            "6\n",
            "True\n",
            "7\n",
            "pos_a : 0 , pos_z : 10 , query_pos : 5 ,present_card : 7\n",
            "pos_a : 0 , pos_z : 4 , query_pos : 2 ,present_card : 12\n",
            "True\n",
            "8\n",
            "pos_a : 0 , pos_z : 8 , query_pos : 4 ,present_card : 9\n",
            "False\n"
          ]
        }
      ]
    },
    {
      "cell_type": "code",
      "metadata": {
        "id": "h9RyZDli8S9d"
      },
      "source": [
        "def locate_card2(cards, query):\n",
        "    pos_a = 0 \n",
        "    pos_z = len(cards)-1 \n",
        "    \n",
        "    while pos_a <= pos_z: #to ensure that the list is not empty\n",
        "        print('pos_a :',pos_a,'pos_z :',pos_z)\n",
        "        mid = (pos_a + pos_z)//2\n",
        "        result = test_location(cards,query,mid)\n",
        "        if result == 'found':\n",
        "            return mid\n",
        "        elif result == 'left':\n",
        "            pos_z = mid -1 \n",
        "        elif result == 'right':\n",
        "            pos_a = mid + 1\n",
        "    return -1    \n",
        "\n",
        "def test_location(cards,query,mid):\n",
        "    var_num = cards[mid]\n",
        "    print('var_num : ', var_num , 'mid:', mid)\n",
        "    if var_num == query:\n",
        "        if mid-1 > 0 and cards[mid-1] == query:  #keep going left if we are not at the first number and query repeats\n",
        "            return 'left'\n",
        "        else:\n",
        "            return 'found'\n",
        "    elif var_num < query:\n",
        "        return 'left'\n",
        "    else:\n",
        "        return 'right'\n",
        "\n",
        "                \n"
      ],
      "execution_count": null,
      "outputs": []
    },
    {
      "cell_type": "code",
      "metadata": {
        "colab": {
          "base_uri": "https://localhost:8080/"
        },
        "id": "wa21EFGr8S9f",
        "outputId": "643b0e05-ac4b-41cd-c125-f56c0ac9c9c4"
      },
      "source": [
        "test_no = 0\n",
        "for test in tests:\n",
        "    test_no += 1\n",
        "    print(test_no)\n",
        "    print(locate_card2(**test['input']) == test['output'])"
      ],
      "execution_count": null,
      "outputs": [
        {
          "output_type": "stream",
          "name": "stdout",
          "text": [
            "1\n",
            "pos_a : 0 pos_z : 6\n",
            "var_num :  7 mid: 3\n",
            "True\n",
            "2\n",
            "pos_a : 0 pos_z : 6\n",
            "var_num :  4 mid: 3\n",
            "pos_a : 4 pos_z : 6\n",
            "var_num :  2 mid: 5\n",
            "pos_a : 4 pos_z : 4\n",
            "var_num :  3 mid: 4\n",
            "True\n",
            "3\n",
            "pos_a : 0 pos_z : 6\n",
            "var_num :  7 mid: 3\n",
            "pos_a : 0 pos_z : 2\n",
            "var_num :  12 mid: 1\n",
            "pos_a : 0 pos_z : 0\n",
            "var_num :  13 mid: 0\n",
            "True\n",
            "4\n",
            "pos_a : 0 pos_z : 0\n",
            "var_num :  3 mid: 0\n",
            "True\n",
            "5\n",
            "pos_a : 0 pos_z : 6\n",
            "var_num :  7 mid: 3\n",
            "pos_a : 4 pos_z : 6\n",
            "var_num :  4 mid: 5\n",
            "pos_a : 4 pos_z : 4\n",
            "var_num :  5 mid: 4\n",
            "True\n",
            "6\n",
            "True\n",
            "7\n",
            "pos_a : 0 pos_z : 10\n",
            "var_num :  7 mid: 5\n",
            "pos_a : 0 pos_z : 4\n",
            "var_num :  12 mid: 2\n",
            "True\n",
            "8\n",
            "pos_a : 0 pos_z : 8\n",
            "var_num :  9 mid: 4\n",
            "pos_a : 0 pos_z : 3\n",
            "var_num :  12 mid: 1\n",
            "pos_a : 2 pos_z : 3\n",
            "var_num :  9 mid: 2\n",
            "True\n"
          ]
        }
      ]
    },
    {
      "cell_type": "code",
      "metadata": {
        "colab": {
          "base_uri": "https://localhost:8080/"
        },
        "id": "oegemn268S9h",
        "outputId": "d87dd9c6-d243-4de8-bfa8-dc1616df0659"
      },
      "source": [
        "a = list(range(10,0,-1))\n",
        "a"
      ],
      "execution_count": null,
      "outputs": [
        {
          "output_type": "execute_result",
          "data": {
            "text/plain": [
              "[10, 9, 8, 7, 6, 5, 4, 3, 2, 1]"
            ]
          },
          "metadata": {},
          "execution_count": 322
        }
      ]
    },
    {
      "cell_type": "code",
      "metadata": {
        "id": "H_LfRRwZ8S9k"
      },
      "source": [
        ""
      ],
      "execution_count": null,
      "outputs": []
    },
    {
      "cell_type": "markdown",
      "metadata": {
        "id": "uKus6sOS8S9l"
      },
      "source": [
        "# PRACTICE"
      ]
    },
    {
      "cell_type": "markdown",
      "metadata": {
        "id": "e25_nD3n8S9o"
      },
      "source": [
        "# My brute force"
      ]
    },
    {
      "cell_type": "code",
      "metadata": {
        "colab": {
          "base_uri": "https://localhost:8080/"
        },
        "id": "S9gylbzp8S9p",
        "outputId": "41df0b7a-47dc-4983-8398-0e9f1cf78a1f"
      },
      "source": [
        "tests"
      ],
      "execution_count": null,
      "outputs": [
        {
          "output_type": "execute_result",
          "data": {
            "text/plain": [
              "[{'input': {'cards': [13, 12, 9, 7, 5, 4, 3], 'query': 7}, 'output': 3},\n",
              " {'input': {'cards': [12, 7, 5, 4, 3, 2, 1], 'query': 3}, 'output': 4},\n",
              " {'input': {'cards': [13, 12, 9, 7, 5, 4, 3], 'query': 13}, 'output': 0},\n",
              " {'input': {'cards': [3], 'query': 3}, 'output': 0},\n",
              " {'input': {'cards': [13, 12, 9, 7, 5, 4, 3], 'query': 6}, 'output': -1},\n",
              " {'input': {'cards': [], 'query': 7}, 'output': -1},\n",
              " {'input': {'cards': [13, 13, 12, 9, 7, 7, 7, 7, 5, 4, 3], 'query': 12},\n",
              "  'output': 2},\n",
              " {'input': {'cards': [13, 12, 9, 9, 9, 7, 5, 4, 3], 'query': 9}, 'output': 2}]"
            ]
          },
          "metadata": {},
          "execution_count": 323
        }
      ]
    },
    {
      "cell_type": "code",
      "metadata": {
        "id": "3Po8CxDB8S9r"
      },
      "source": [
        "def locate_card(cards,query):\n",
        "    pos_a = 0\n",
        "    pos_z = len(cards)- 1\n",
        "    while pos_a <= pos_z: #to make sure the list is not empty\n",
        "        if cards[pos_a] == query:\n",
        "            return pos_a\n",
        "        else:\n",
        "            pos_a = pos_a + 1\n",
        "          \n",
        "    return -1   \n",
        "        "
      ],
      "execution_count": null,
      "outputs": []
    },
    {
      "cell_type": "code",
      "metadata": {
        "colab": {
          "base_uri": "https://localhost:8080/"
        },
        "id": "C4bH7rR28S9s",
        "outputId": "f8e5f4c7-fc94-4b9c-b2dd-92728be24e47"
      },
      "source": [
        "%%time\n",
        "test_no = 0\n",
        "for test in tests:\n",
        "    test_no += 1\n",
        "    print(test_no)\n",
        "    #print(pos_a)\n",
        "    print(locate_card(**test['input'])==test['output'])"
      ],
      "execution_count": null,
      "outputs": [
        {
          "output_type": "stream",
          "name": "stdout",
          "text": [
            "1\n",
            "True\n",
            "2\n",
            "True\n",
            "3\n",
            "True\n",
            "4\n",
            "True\n",
            "5\n",
            "True\n",
            "6\n",
            "True\n",
            "7\n",
            "True\n",
            "8\n",
            "True\n",
            "CPU times: user 2.9 ms, sys: 898 µs, total: 3.8 ms\n",
            "Wall time: 3.76 ms\n"
          ]
        }
      ]
    },
    {
      "cell_type": "markdown",
      "metadata": {
        "id": "1cJbaXdG8S9u"
      },
      "source": [
        "# Binary Search"
      ]
    },
    {
      "cell_type": "code",
      "metadata": {
        "id": "OJiaJSGM8S9v"
      },
      "source": [
        "def locate_card2(cards,query):\n",
        "    pos_a = 0\n",
        "    pos_z = len(cards)-1\n",
        "    while pos_a <= pos_z:\n",
        "        start_pos = (pos_a + pos_z) // 2\n",
        "        print('pos_a ', pos_a, 'pos_z ', pos_z, 'start_pos ', start_pos)\n",
        "        if cards[start_pos] == query:\n",
        "            return start_pos\n",
        "        elif cards[start_pos] < query:\n",
        "            pos_z = start_pos - 1\n",
        "        elif cards[start_pos] > query:\n",
        "            pos_a = start_pos + 1\n",
        "                \n",
        "    return - 1            "
      ],
      "execution_count": null,
      "outputs": []
    },
    {
      "cell_type": "code",
      "metadata": {
        "colab": {
          "base_uri": "https://localhost:8080/"
        },
        "id": "U8CwEZU18S9x",
        "outputId": "9f2c2238-85fa-43d1-c049-19e704b3b5a6"
      },
      "source": [
        "%%time\n",
        "test_no = 0\n",
        "for test in tests:\n",
        "    test_no += 1\n",
        "    print(test_no)\n",
        "    #print(pos_a)\n",
        "    print(locate_card2(**test['input'])==test['output'])"
      ],
      "execution_count": null,
      "outputs": [
        {
          "output_type": "stream",
          "name": "stdout",
          "text": [
            "1\n",
            "pos_a  0 pos_z  6 start_pos  3\n",
            "True\n",
            "2\n",
            "pos_a  0 pos_z  6 start_pos  3\n",
            "pos_a  4 pos_z  6 start_pos  5\n",
            "pos_a  4 pos_z  4 start_pos  4\n",
            "True\n",
            "3\n",
            "pos_a  0 pos_z  6 start_pos  3\n",
            "pos_a  0 pos_z  2 start_pos  1\n",
            "pos_a  0 pos_z  0 start_pos  0\n",
            "True\n",
            "4\n",
            "pos_a  0 pos_z  0 start_pos  0\n",
            "True\n",
            "5\n",
            "pos_a  0 pos_z  6 start_pos  3\n",
            "pos_a  4 pos_z  6 start_pos  5\n",
            "pos_a  4 pos_z  4 start_pos  4\n",
            "True\n",
            "6\n",
            "True\n",
            "7\n",
            "pos_a  0 pos_z  10 start_pos  5\n",
            "pos_a  0 pos_z  4 start_pos  2\n",
            "True\n",
            "8\n",
            "pos_a  0 pos_z  8 start_pos  4\n",
            "False\n",
            "CPU times: user 8.77 ms, sys: 0 ns, total: 8.77 ms\n",
            "Wall time: 11.7 ms\n"
          ]
        }
      ]
    },
    {
      "cell_type": "markdown",
      "metadata": {
        "id": "laSeDgdw8S9z"
      },
      "source": [
        "# Best_algorithm"
      ]
    },
    {
      "cell_type": "code",
      "metadata": {
        "id": "0XGzVQQj8S90"
      },
      "source": [
        "def locate_card3(cards, query):\n",
        "    pos_a = 0\n",
        "    pos_z = len(cards)- 1\n",
        "    while pos_a <= pos_z: # to ensure the list is not empty\n",
        "        start_pos = (pos_a + pos_z)//2\n",
        "        result = test_location(cards,query, start_pos)\n",
        "    #         result = test_location(cards,query)\n",
        "        if result == 'found':\n",
        "            return start_pos\n",
        "        elif result == 'left':\n",
        "            pos_z = start_pos - 1\n",
        "        elif result == 'right':\n",
        "            pos_a = start_pos + 1\n",
        "            \n",
        "    return -1        \n",
        "            \n",
        "def test_location(cards,query,start_pos):\n",
        "    if cards[start_pos - 1] == query and start_pos -1 > 0:       \n",
        "        return 'left'\n",
        "    if cards[start_pos]== query:\n",
        "        return 'found'\n",
        "    elif cards[start_pos] < query:\n",
        "        return 'left'\n",
        "    elif cards[start_pos] > query:\n",
        "        return 'right'\n",
        "        \n",
        "            \n",
        "        "
      ],
      "execution_count": null,
      "outputs": []
    },
    {
      "cell_type": "code",
      "metadata": {
        "colab": {
          "base_uri": "https://localhost:8080/"
        },
        "id": "HVaQJIIV8S93",
        "outputId": "a2ed442e-c17a-41d2-83e5-79412d0dfaaf"
      },
      "source": [
        "%%time\n",
        "test_no = 0\n",
        "for test in tests:\n",
        "    test_no += 1\n",
        "    print(test_no)\n",
        "    #print(pos_a)\n",
        "    print(locate_card3(**test['input'])==test['output'])"
      ],
      "execution_count": null,
      "outputs": [
        {
          "output_type": "stream",
          "name": "stdout",
          "text": [
            "1\n",
            "True\n",
            "2\n",
            "True\n",
            "3\n",
            "True\n",
            "4\n",
            "True\n",
            "5\n",
            "True\n",
            "6\n",
            "True\n",
            "7\n",
            "True\n",
            "8\n",
            "True\n",
            "CPU times: user 4.91 ms, sys: 3 ms, total: 7.91 ms\n",
            "Wall time: 8.51 ms\n"
          ]
        }
      ]
    },
    {
      "cell_type": "markdown",
      "metadata": {
        "id": "FD06cnZk8S95"
      },
      "source": [
        "# Lesson 2"
      ]
    },
    {
      "cell_type": "markdown",
      "metadata": {
        "id": "BCFeSI8C8S96"
      },
      "source": [
        "# Necessaries"
      ]
    },
    {
      "cell_type": "code",
      "metadata": {
        "id": "YcEBuie_8S98"
      },
      "source": [
        "class User:\n",
        "    def __init__(self, username,name,email):\n",
        "        self.username = username\n",
        "        self.name = name\n",
        "        self.email = email\n",
        "        print('User created')\n",
        "        \n",
        "    def __repr__(self):\n",
        "        return \"User(username = '{}', name ='{}', email ='{}')\".format(self.username,self.name,self.email)\n",
        "    def __str__(self):\n",
        "        return self.__repr__()"
      ],
      "execution_count": null,
      "outputs": []
    },
    {
      "cell_type": "code",
      "metadata": {
        "colab": {
          "base_uri": "https://localhost:8080/"
        },
        "id": "P8LW5Eq-8S99",
        "outputId": "5183b3d3-62bb-45cb-c375-8e8d76aa16b8"
      },
      "source": [
        "enya = User('enya','Eithne enya','enya@eithne.com')\n",
        "feranmi = User('feranmi','feranmi enya','fenya@eithne.com')\n",
        "saola = User('saola','saola enya','saola@eithne.com')\n",
        "ghealach = User('ghealach','Eghealach enya','ghealachenya@eithne.com')\n",
        "peter = User('peter','oyeniyi peter','oluwaseun.com')\n",
        "zainab = User('zainab','oyeniyi peter','oluwaseun.com')"
      ],
      "execution_count": null,
      "outputs": [
        {
          "output_type": "stream",
          "name": "stdout",
          "text": [
            "User created\n",
            "User created\n",
            "User created\n",
            "User created\n",
            "User created\n",
            "User created\n"
          ]
        }
      ]
    },
    {
      "cell_type": "code",
      "metadata": {
        "id": "aHvo15sZ9ST5"
      },
      "source": [
        "users = [enya,feranmi,saola,ghealach,peter,zainab]"
      ],
      "execution_count": null,
      "outputs": []
    },
    {
      "cell_type": "code",
      "metadata": {
        "id": "ApdN8Kvl8S-A"
      },
      "source": [
        "class userDataBase:\n",
        "    def __init__(self):\n",
        "        self.users = []\n",
        "    def insert (self, user):\n",
        "        i = 0\n",
        "        while i < len(self.users):\n",
        "            if self.users[i].username > user.username:\n",
        "                break #goes to the last code in the def\n",
        "            i += 1\n",
        "            # print(i)\n",
        "            # print(users[i].username, user.username)\n",
        "        self.users.insert(i, user)     \n",
        "        print(i)\n",
        "        # print(users[i].username, user.username)\n",
        "    \n",
        "    def find (self, username):\n",
        "        for user in self.users:\n",
        "            if user.username == username:\n",
        "                return user\n",
        "        \n",
        "        \n",
        "    def update (self, user):\n",
        "        target = self.find(user.username)\n",
        "        print(target)\n",
        "        target.name, target.email = user.name, user.email\n",
        "        \n",
        "    \n",
        "    def list_all(self):\n",
        "        return self.users"
      ],
      "execution_count": null,
      "outputs": []
    },
    {
      "cell_type": "code",
      "metadata": {
        "id": "mQ9nW9JW8S-C"
      },
      "source": [
        "database = userDataBase()"
      ],
      "execution_count": null,
      "outputs": []
    },
    {
      "cell_type": "code",
      "metadata": {
        "id": "MYljmacGCdrX"
      },
      "source": [
        ""
      ],
      "execution_count": null,
      "outputs": []
    },
    {
      "cell_type": "code",
      "metadata": {
        "colab": {
          "base_uri": "https://localhost:8080/"
        },
        "id": "Kw3PCwEHCkog",
        "outputId": "a8999db8-7654-4eac-b9c6-eff3f3411833"
      },
      "source": [
        "database.list_all()"
      ],
      "execution_count": null,
      "outputs": [
        {
          "output_type": "execute_result",
          "data": {
            "text/plain": [
              "[]"
            ]
          },
          "metadata": {},
          "execution_count": 335
        }
      ]
    },
    {
      "cell_type": "code",
      "metadata": {
        "colab": {
          "base_uri": "https://localhost:8080/"
        },
        "id": "ZWSK9BbQ8S-D",
        "outputId": "b0022476-4aad-41ac-a710-bc38af8e4ecd"
      },
      "source": [
        "database.insert(feranmi)\n"
      ],
      "execution_count": null,
      "outputs": [
        {
          "output_type": "stream",
          "name": "stdout",
          "text": [
            "0\n"
          ]
        }
      ]
    },
    {
      "cell_type": "code",
      "metadata": {
        "colab": {
          "base_uri": "https://localhost:8080/"
        },
        "id": "5gX8PGsE8S-G",
        "outputId": "41f41ec0-f4fb-494b-bccc-a5fae4dda558"
      },
      "source": [
        "database.insert(saola)\n"
      ],
      "execution_count": null,
      "outputs": [
        {
          "output_type": "stream",
          "name": "stdout",
          "text": [
            "1\n"
          ]
        }
      ]
    },
    {
      "cell_type": "code",
      "metadata": {
        "colab": {
          "base_uri": "https://localhost:8080/"
        },
        "id": "ZFcnfy788S-H",
        "outputId": "dc55ae85-0331-4ed5-bcc2-29aed06b2244"
      },
      "source": [
        "database.insert(enya)"
      ],
      "execution_count": null,
      "outputs": [
        {
          "output_type": "stream",
          "name": "stdout",
          "text": [
            "0\n"
          ]
        }
      ]
    },
    {
      "cell_type": "code",
      "metadata": {
        "colab": {
          "base_uri": "https://localhost:8080/"
        },
        "id": "u_batyMh8S-N",
        "outputId": "691f9bfd-70d2-4e8f-fc63-9b694d61f3d8"
      },
      "source": [
        "database.insert(peter)"
      ],
      "execution_count": null,
      "outputs": [
        {
          "output_type": "stream",
          "name": "stdout",
          "text": [
            "2\n"
          ]
        }
      ]
    },
    {
      "cell_type": "code",
      "metadata": {
        "colab": {
          "base_uri": "https://localhost:8080/"
        },
        "id": "CZSf5eEU8S-O",
        "outputId": "5dd9f99d-33a7-4f0e-c8ff-a5755ca1df8a"
      },
      "source": [
        "database.insert(ghealach)"
      ],
      "execution_count": null,
      "outputs": [
        {
          "output_type": "stream",
          "name": "stdout",
          "text": [
            "2\n"
          ]
        }
      ]
    },
    {
      "cell_type": "code",
      "metadata": {
        "colab": {
          "base_uri": "https://localhost:8080/"
        },
        "id": "ZbqDS4Cy8S-R",
        "outputId": "db942cfa-335d-4e19-9018-9641ae537bd1"
      },
      "source": [
        "database.insert(zainab)"
      ],
      "execution_count": null,
      "outputs": [
        {
          "output_type": "stream",
          "name": "stdout",
          "text": [
            "5\n"
          ]
        }
      ]
    },
    {
      "cell_type": "code",
      "metadata": {
        "id": "6PJUNegwHG2u"
      },
      "source": [
        "database.update()"
      ],
      "execution_count": null,
      "outputs": []
    },
    {
      "cell_type": "code",
      "metadata": {
        "id": "pyabCSLH8S-S"
      },
      "source": [
        "# class userDataBase:\n",
        "#     def __init__():\n",
        "#         users = []\n",
        "#     def insert (user):\n",
        "#         i = 0\n",
        "#         while i < len(users):\n",
        "#             if users[i].username > user.username:\n",
        "#                 break #go out of the while loop)\n",
        "#             i += 1\n",
        "#             print(i)\n",
        "#         users.insert(i, user)     "
      ],
      "execution_count": null,
      "outputs": []
    },
    {
      "cell_type": "markdown",
      "metadata": {
        "id": "DRvaqx2C8S-V"
      },
      "source": [
        "# Trial"
      ]
    },
    {
      "cell_type": "code",
      "metadata": {
        "id": "_u6aMvmF8S-X"
      },
      "source": [
        "class user():\n",
        "    def __init__(self, name, username, number):\n",
        "        self.name = name\n",
        "        self.username = username\n",
        "        self.number = number\n",
        "        print('user created!')\n",
        "        \n",
        "    def __repr__(self):\n",
        "        return \"user(name = '{}', username = '{}', number = '{}').\".format(self.name, self.username, self.number)\n",
        "#     def __str__(self):\n",
        "#         return self.__repr__()"
      ],
      "execution_count": null,
      "outputs": []
    },
    {
      "cell_type": "code",
      "metadata": {
        "colab": {
          "base_uri": "https://localhost:8080/"
        },
        "id": "lYbXyEJ38S-Z",
        "outputId": "676c7b1a-8a5b-465d-decd-90808ece9026"
      },
      "source": [
        "saola = user('saola','feranmi','34343')\n",
        "enoch = user('enoch','enochs','312343')\n",
        "# pete = user('petes','feranmi','34343')\n",
        "# enya = user('enyas','feranmi','34343')"
      ],
      "execution_count": null,
      "outputs": [
        {
          "output_type": "stream",
          "name": "stdout",
          "text": [
            "user created!\n",
            "user created!\n"
          ]
        }
      ]
    },
    {
      "cell_type": "code",
      "metadata": {
        "id": "KnqyNbt58S-b"
      },
      "source": [
        "# print(enoch)"
      ],
      "execution_count": null,
      "outputs": []
    },
    {
      "cell_type": "code",
      "metadata": {
        "id": "sr7HyFV88S-c"
      },
      "source": [
        "class userDataBase:\n",
        "    def __init__(self):\n",
        "        self.users = []\n",
        "    def insert (self, user):\n",
        "        i = 0\n",
        "        while i < len(self.users):\n",
        "            if self.users[i].username > user.username:\n",
        "                break\n",
        "            i += 1\n",
        "            print(i)\n",
        "            print(users[i].username, user.username)\n",
        "        self.users.insert(i, user)     \n",
        "    \n",
        "    def find (self, username):\n",
        "        for user in self.users:\n",
        "            if user.username == username:\n",
        "                return user\n",
        "        \n",
        "        \n",
        "    def update (self, user):\n",
        "        target = self.find(user.username)\n",
        "        target.name, target.email = user.name, user.email\n",
        "        \n",
        "    \n",
        "    def list_all(self):\n",
        "        return self.users"
      ],
      "execution_count": null,
      "outputs": []
    },
    {
      "cell_type": "code",
      "metadata": {
        "id": "H4j7Katz8S-e"
      },
      "source": [
        "base = userDataBase()\n",
        "base.insert(saola)"
      ],
      "execution_count": null,
      "outputs": []
    }
  ]
}